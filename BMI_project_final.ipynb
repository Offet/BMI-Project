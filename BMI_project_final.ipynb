{
 "cells": [
  {
   "cell_type": "code",
   "execution_count": 27,
   "id": "70786a32",
   "metadata": {},
   "outputs": [
    {
     "name": "stdout",
     "output_type": "stream",
     "text": [
      "\n",
      "BMI Calculator Menu:\n",
      "1. Calculate BMI\n",
      "2. Exit\n",
      "Enter your choice: 1\n",
      "Enter your name: Felix\n",
      "Enter your weight (kg): 70\n",
      "Enter your height (cm): 160\n",
      "BMI: 27.34\n",
      "Category: Overweight\n",
      "\n",
      "BMI Calculator Menu:\n",
      "1. Calculate BMI\n",
      "2. Exit\n",
      "Enter your choice: 1\n",
      "Enter your name: kii\n",
      "Enter your weight (kg): 60kg\n"
     ]
    },
    {
     "ename": "ValueError",
     "evalue": "could not convert string to float: '60kg'",
     "output_type": "error",
     "traceback": [
      "\u001b[1;31m---------------------------------------------------------------------------\u001b[0m",
      "\u001b[1;31mValueError\u001b[0m                                Traceback (most recent call last)",
      "Cell \u001b[1;32mIn[27], line 62\u001b[0m\n\u001b[0;32m     58\u001b[0m         \u001b[38;5;28;01melse\u001b[39;00m:\n\u001b[0;32m     59\u001b[0m             \u001b[38;5;28mprint\u001b[39m(\u001b[38;5;124m\"\u001b[39m\u001b[38;5;124mInvalid choice. Please enter a number between 1 and 2.\u001b[39m\u001b[38;5;124m\"\u001b[39m)\n\u001b[1;32m---> 62\u001b[0m main()\n",
      "Cell \u001b[1;32mIn[27], line 49\u001b[0m, in \u001b[0;36mmain\u001b[1;34m()\u001b[0m\n\u001b[0;32m     47\u001b[0m \u001b[38;5;28;01mif\u001b[39;00m choice \u001b[38;5;241m==\u001b[39m \u001b[38;5;124m\"\u001b[39m\u001b[38;5;124m1\u001b[39m\u001b[38;5;124m\"\u001b[39m:\n\u001b[0;32m     48\u001b[0m     name \u001b[38;5;241m=\u001b[39m \u001b[38;5;28minput\u001b[39m(\u001b[38;5;124m\"\u001b[39m\u001b[38;5;124mEnter your name: \u001b[39m\u001b[38;5;124m\"\u001b[39m)\n\u001b[1;32m---> 49\u001b[0m     weight \u001b[38;5;241m=\u001b[39m \u001b[38;5;28mfloat\u001b[39m(\u001b[38;5;28minput\u001b[39m(\u001b[38;5;124m\"\u001b[39m\u001b[38;5;124mEnter your weight (kg): \u001b[39m\u001b[38;5;124m\"\u001b[39m))\n\u001b[0;32m     50\u001b[0m     height \u001b[38;5;241m=\u001b[39m \u001b[38;5;28mfloat\u001b[39m(\u001b[38;5;28minput\u001b[39m(\u001b[38;5;124m\"\u001b[39m\u001b[38;5;124mEnter your height (cm): \u001b[39m\u001b[38;5;124m\"\u001b[39m))\n\u001b[0;32m     51\u001b[0m     bmi, category \u001b[38;5;241m=\u001b[39m calculate_bmi(name, weight, height)\n",
      "\u001b[1;31mValueError\u001b[0m: could not convert string to float: '60kg'"
     ]
    }
   ],
   "source": [
    "def calculate_bmi(name, weight, height):\n",
    "    \"\"\"\n",
    "    Calculates the Body Mass Index (BMI) and corresponding weight category.\n",
    "\n",
    "    Args:\n",
    "        name (str): Name of the person.\n",
    "        weight (float): Weight in kilograms.\n",
    "        height (float): Height in centimeters.\n",
    "\n",
    "    Returns:\n",
    "        tuple: A tuple containing the calculated BMI (float) and weight category (str),\n",
    "                or None, None if invalid input is provided.\n",
    "\n",
    "    Raises:\n",
    "        ValueError: If weight or height are not valid numeric values.\n",
    "    \"\"\"\n",
    "    try:\n",
    "        bmi = weight / ((height / 100) ** 2)\n",
    "        if bmi < 18.5:\n",
    "            category = \"Underweight\"\n",
    "        elif 18.5 <= bmi < 25:\n",
    "            category = \"Normal weight\"\n",
    "        elif 25 <= bmi < 30:\n",
    "            category = \"Overweight\"\n",
    "        else:\n",
    "            category = \"Obesity\"\n",
    "        return bmi, category\n",
    "    except ValueError:\n",
    "        print(\"Please enter valid numeric values for weight and height.\")\n",
    "        return None, None\n",
    "\n",
    "\n",
    "def main():\n",
    "    \"\"\"\n",
    "    The main function that runs the BMI calculator menu.\n",
    "\n",
    "    This function displays a menu, prompts the user for input, and calls the\n",
    "    calculate_bmi function to perform the calculations.\n",
    "    \"\"\"\n",
    "    while True:\n",
    "        print(\"\\nBMI Calculator Menu:\")\n",
    "        print(\"1. Calculate BMI\")\n",
    "        print(\"2. Exit\")\n",
    "\n",
    "        choice = input(\"Enter your choice: \")\n",
    "\n",
    "        if choice == \"1\":\n",
    "            name = input(\"Enter your name: \")\n",
    "            weight = float(input(\"Enter your weight (kg): \"))\n",
    "            height = float(input(\"Enter your height (cm): \"))\n",
    "            bmi, category = calculate_bmi(name, weight, height)\n",
    "            if bmi is not None:\n",
    "                print(f\"BMI: {bmi:.2f}\")\n",
    "                print(f\"Category: {category}\")\n",
    "        elif choice == \"2\":\n",
    "            print(\"Exiting...\")\n",
    "            break\n",
    "        else:\n",
    "            print(\"Invalid choice. Please enter a number between 1 and 2.\")\n",
    "\n",
    "\n",
    "main()\n"
   ]
  },
  {
   "cell_type": "code",
   "execution_count": null,
   "id": "b5c4730d",
   "metadata": {},
   "outputs": [],
   "source": []
  }
 ],
 "metadata": {
  "kernelspec": {
   "display_name": "Python 3 (ipykernel)",
   "language": "python",
   "name": "python3"
  },
  "language_info": {
   "codemirror_mode": {
    "name": "ipython",
    "version": 3
   },
   "file_extension": ".py",
   "mimetype": "text/x-python",
   "name": "python",
   "nbconvert_exporter": "python",
   "pygments_lexer": "ipython3",
   "version": "3.11.5"
  }
 },
 "nbformat": 4,
 "nbformat_minor": 5
}
